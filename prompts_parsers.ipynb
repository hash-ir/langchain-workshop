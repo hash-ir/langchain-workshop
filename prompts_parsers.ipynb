{
 "cells": [
  {
   "cell_type": "markdown",
   "id": "78fce986",
   "metadata": {},
   "source": [
    "# Based on the LangChain for LLM Application Development short course on deeplearning.ai"
   ]
  },
  {
   "cell_type": "code",
   "execution_count": 1,
   "id": "d6b4fd1d",
   "metadata": {},
   "outputs": [],
   "source": [
    "import openai\n",
    "import os\n",
    "\n",
    "from dotenv import load_dotenv, find_dotenv\n",
    "_ = load_dotenv(find_dotenv())\n",
    "\n",
    "# set api key and organization\n",
    "openai.api_key = os.environ['OPENAI_API_KEY']\n",
    "openai.organization = os.environ['OPENAI_ORG']"
   ]
  },
  {
   "cell_type": "markdown",
   "id": "a12986eb",
   "metadata": {},
   "source": [
    "## Models, prompts and parsers"
   ]
  },
  {
   "cell_type": "markdown",
   "id": "8f6bf3fd",
   "metadata": {},
   "source": [
    "### Prompt completion\n",
    "Here is a small example to translate the customer text email written in Hindi in American English"
   ]
  },
  {
   "cell_type": "code",
   "execution_count": 2,
   "id": "05ad8e25",
   "metadata": {},
   "outputs": [],
   "source": [
    "def get_completion(prompt, model='gpt-3.5-turbo'):\n",
    "    messages = [{\"role\": \"user\", \"content\": prompt}]\n",
    "    response = openai.ChatCompletion.create(\n",
    "        model=model,\n",
    "        messages=messages,\n",
    "        temperature=0\n",
    "    )\n",
    "    \n",
    "    return response.choices[0].message[\"content\"]"
   ]
  },
  {
   "cell_type": "code",
   "execution_count": 3,
   "id": "6c414d82",
   "metadata": {},
   "outputs": [
    {
     "name": "stdout",
     "output_type": "stream",
     "text": [
      "Translate the text that is delimited by triple backticks into a style that is American English.\n",
      "Text: ```Mujhe ye smjh mein nhi aa rha ki isko kaise shi karun. \\ \n",
      "Mene bht baar koshish kari lekin ye shi nhi ho rha h```\n"
     ]
    }
   ],
   "source": [
    "customer_email = \"\"\"Mujhe ye smjh mein nhi aa rha ki isko kaise shi karun. \\ \n",
    "Mene bht baar koshish kari lekin ye shi nhi ho rha h\"\"\"\n",
    "\n",
    "style = \"\"\"American English\"\"\"\n",
    "\n",
    "prompt = f\"\"\"Translate the text that is delimited by triple backticks into a \\\n",
    "style that is {style}.\n",
    "Text: ```{customer_email}```\"\"\"\n",
    "\n",
    "print(prompt)"
   ]
  },
  {
   "cell_type": "code",
   "execution_count": 4,
   "id": "87fe4f87",
   "metadata": {},
   "outputs": [],
   "source": [
    "response = get_completion(prompt)"
   ]
  },
  {
   "cell_type": "code",
   "execution_count": 5,
   "id": "018dbc79",
   "metadata": {
    "scrolled": true
   },
   "outputs": [
    {
     "name": "stdout",
     "output_type": "stream",
     "text": [
      "\"I'm not understanding how to fix this. I've tried many times but it's not working.\"\n"
     ]
    }
   ],
   "source": [
    "print(response)"
   ]
  },
  {
   "cell_type": "markdown",
   "id": "4d694e6d",
   "metadata": {},
   "source": [
    "### Chat models and templates\n",
    "Use prompt templates to reuse long and detailed prompts"
   ]
  },
  {
   "cell_type": "code",
   "execution_count": 6,
   "id": "9fa636fa",
   "metadata": {},
   "outputs": [],
   "source": [
    "from langchain.chat_models import ChatOpenAI\n",
    "from langchain.prompts import ChatPromptTemplate"
   ]
  },
  {
   "cell_type": "code",
   "execution_count": 7,
   "id": "03489a74",
   "metadata": {},
   "outputs": [],
   "source": [
    "# set temperature to 0 for reproducing responses\n",
    "chat = ChatOpenAI(temperature=0.0, model='gpt-3.5-turbo')"
   ]
  },
  {
   "cell_type": "code",
   "execution_count": 8,
   "id": "3802495d",
   "metadata": {},
   "outputs": [],
   "source": [
    "template_string = \"\"\"Translate the text \\\n",
    "that is delimited by triple backticks \\\n",
    "into a style that is {style}. \\\n",
    "text: ```{text}```\n",
    "\"\"\""
   ]
  },
  {
   "cell_type": "code",
   "execution_count": 9,
   "id": "fcc1bfe7",
   "metadata": {},
   "outputs": [
    {
     "data": {
      "text/plain": [
       "PromptTemplate(input_variables=['style', 'text'], output_parser=None, partial_variables={}, template='Translate the text that is delimited by triple backticks into a style that is {style}. text: ```{text}```\\n', template_format='f-string', validate_template=True)"
      ]
     },
     "execution_count": 9,
     "metadata": {},
     "output_type": "execute_result"
    }
   ],
   "source": [
    "# create a template\n",
    "prompt_template = ChatPromptTemplate.from_template(template_string)\n",
    "prompt_template.messages[0].prompt"
   ]
  },
  {
   "cell_type": "code",
   "execution_count": 10,
   "id": "b0027e33",
   "metadata": {},
   "outputs": [
    {
     "data": {
      "text/plain": [
       "['style', 'text']"
      ]
     },
     "execution_count": 10,
     "metadata": {},
     "output_type": "execute_result"
    }
   ],
   "source": [
    "# any and all input variables will be present\n",
    "# in the prompt template\n",
    "prompt_template.messages[0].prompt.input_variables"
   ]
  },
  {
   "cell_type": "code",
   "execution_count": 11,
   "id": "05ea854a",
   "metadata": {},
   "outputs": [],
   "source": [
    "customer_style = \"\"\"Hoch Deutsch\"\"\"\n",
    "\n",
    "customer_email = \"\"\"Mujhe ye smjh mein nhi aa rha \\\n",
    "ki isko kaise shi karun. \\ \n",
    "Mene bht baar koshish kari lekin ye shi nhi ho rha h\"\"\""
   ]
  },
  {
   "cell_type": "code",
   "execution_count": 12,
   "id": "15c58aa5",
   "metadata": {},
   "outputs": [],
   "source": [
    "customer_messages = prompt_template.format_messages(\n",
    "    style=customer_style,\n",
    "    text=customer_email\n",
    ")"
   ]
  },
  {
   "cell_type": "code",
   "execution_count": 13,
   "id": "4ada3bca",
   "metadata": {},
   "outputs": [
    {
     "data": {
      "text/plain": [
       "(list, langchain.schema.messages.HumanMessage)"
      ]
     },
     "execution_count": 13,
     "metadata": {},
     "output_type": "execute_result"
    }
   ],
   "source": [
    "type(customer_messages), type(customer_messages[0])"
   ]
  },
  {
   "cell_type": "code",
   "execution_count": 14,
   "id": "258574f0",
   "metadata": {},
   "outputs": [
    {
     "data": {
      "text/plain": [
       "HumanMessage(content='Translate the text that is delimited by triple backticks into a style that is Hoch Deutsch. text: ```Mujhe ye smjh mein nhi aa rha ki isko kaise shi karun. \\\\ \\nMene bht baar koshish kari lekin ye shi nhi ho rha h```\\n', additional_kwargs={}, example=False)"
      ]
     },
     "execution_count": 14,
     "metadata": {},
     "output_type": "execute_result"
    }
   ],
   "source": [
    "customer_messages[0]"
   ]
  },
  {
   "cell_type": "code",
   "execution_count": 15,
   "id": "a90dd993",
   "metadata": {},
   "outputs": [
    {
     "data": {
      "text/plain": [
       "'\"Mujhe fällt es schwer zu verstehen, wie ich das richtig machen soll. Ich habe es viele Male versucht, aber es funktioniert nicht richtig.\"'"
      ]
     },
     "execution_count": 15,
     "metadata": {},
     "output_type": "execute_result"
    }
   ],
   "source": [
    "# get output from the model\n",
    "customer_response = chat(customer_messages)\n",
    "customer_response.content"
   ]
  },
  {
   "cell_type": "code",
   "execution_count": 16,
   "id": "5e891c76",
   "metadata": {},
   "outputs": [],
   "source": [
    "service_style = \"\"\"Hindi\"\"\"\n",
    "service_style_hinglish = \"\"\"Hinglish\"\"\"\n",
    "\n",
    "service_reply = \"\"\"Ja, ich kann Ihnen dabei helfen. \\\n",
    "Bitte nennen Sie mir Ihren Namen und Ihre Kundennummer.\"\"\""
   ]
  },
  {
   "cell_type": "code",
   "execution_count": 17,
   "id": "0cff1991",
   "metadata": {},
   "outputs": [],
   "source": [
    "service_messages = prompt_template.format_messages(\n",
    "    style=service_style,\n",
    "    text=service_reply\n",
    ")"
   ]
  },
  {
   "cell_type": "code",
   "execution_count": 18,
   "id": "90a8e796",
   "metadata": {},
   "outputs": [
    {
     "data": {
      "text/plain": [
       "'```जी हां, मैं आपकी मदद कर सकता हूँ। कृपया मुझे अपना नाम और ग्राहक संख्या बताएं।```'"
      ]
     },
     "execution_count": 18,
     "metadata": {},
     "output_type": "execute_result"
    }
   ],
   "source": [
    "service_response = chat(service_messages)\n",
    "service_response.content"
   ]
  },
  {
   "cell_type": "code",
   "execution_count": 19,
   "id": "f48ac2aa",
   "metadata": {},
   "outputs": [],
   "source": [
    "service_messages_hinglish = prompt_template.format_messages(\n",
    "    style=service_style_hinglish,\n",
    "    text=service_reply\n",
    ")"
   ]
  },
  {
   "cell_type": "code",
   "execution_count": 20,
   "id": "9a519fa3",
   "metadata": {},
   "outputs": [
    {
     "data": {
      "text/plain": [
       "'```Haan, main aapki madad kar sakta hoon. Apna naam aur customer number mujhe bataiye, please.```'"
      ]
     },
     "execution_count": 20,
     "metadata": {},
     "output_type": "execute_result"
    }
   ],
   "source": [
    "service_response_hinglish = chat(service_messages_hinglish)\n",
    "service_response_hinglish.content"
   ]
  },
  {
   "cell_type": "markdown",
   "id": "3e9385be",
   "metadata": {},
   "source": [
    "### Parse output \n",
    "Provide formatting instructions of the output in the input prompt and then use a parser to parse the output. This is useful for downstream processing of the output."
   ]
  },
  {
   "cell_type": "code",
   "execution_count": 21,
   "id": "9909e141",
   "metadata": {},
   "outputs": [],
   "source": [
    "user_request = \"\"\"Give me the number of incoming and outgoing synapses \\\n",
    "of all the MSN cells\"\"\"\n",
    "\n",
    "request_template = \"\"\"For the text delimited by backticks, extract the \\\n",
    "following information:\n",
    "\n",
    "cell_type: Which type of cell is mentioned?\n",
    "property: Which property of the cell is requested? Is it organelles \\\n",
    "e.g mitochondria or vesicles, synapses, myelin, subcompartments e.g axon, dendrite, soma etc.\n",
    "task: What to do with the requested cell and its property?\n",
    "extra: Any other information e.g a partner cell, quantity, \\\n",
    "dataset version, etc.\n",
    "\n",
    "Format the output as JSON with the following keys:\n",
    "cell_type\n",
    "property\n",
    "task\n",
    "extra\n",
    "\n",
    "text: ```{text}```\n",
    "\"\"\""
   ]
  },
  {
   "cell_type": "code",
   "execution_count": 22,
   "id": "af465836",
   "metadata": {},
   "outputs": [
    {
     "data": {
      "text/plain": [
       "ChatPromptTemplate(input_variables=['text'], output_parser=None, partial_variables={}, messages=[HumanMessagePromptTemplate(prompt=PromptTemplate(input_variables=['text'], output_parser=None, partial_variables={}, template='For the text delimited by backticks, extract the following information:\\n\\ncell_type: Which type of cell is mentioned?\\nproperty: Which property of the cell is requested? Is it organelles e.g mitochondria or vesicles, synapses, myelin, subcompartments e.g axon, dendrite, soma etc.\\ntask: What to do with the requested cell and its property?\\nextra: Any other information e.g a partner cell, quantity, dataset version, etc.\\n\\nFormat the output as JSON with the following keys:\\ncell_type\\nproperty\\ntask\\nextra\\n\\ntext: ```{text}```\\n', template_format='f-string', validate_template=True), additional_kwargs={})])"
      ]
     },
     "execution_count": 22,
     "metadata": {},
     "output_type": "execute_result"
    }
   ],
   "source": [
    "prompt_template = ChatPromptTemplate.from_template(request_template)\n",
    "prompt_template"
   ]
  },
  {
   "cell_type": "code",
   "execution_count": 23,
   "id": "16d0b146",
   "metadata": {},
   "outputs": [
    {
     "name": "stdout",
     "output_type": "stream",
     "text": [
      "For the text delimited by backticks, extract the following information:\n",
      "\n",
      "cell_type: Which type of cell is mentioned?\n",
      "property: Which property of the cell is requested? Is it organelles e.g mitochondria or vesicles, synapses, myelin, subcompartments e.g axon, dendrite, soma etc.\n",
      "task: What to do with the requested cell and its property?\n",
      "extra: Any other information e.g a partner cell, quantity, dataset version, etc.\n",
      "\n",
      "Format the output as JSON with the following keys:\n",
      "cell_type\n",
      "property\n",
      "task\n",
      "extra\n",
      "\n",
      "text: ```Give me the number of incoming and outgoing synapses of all the MSN cells```\n",
      "\n"
     ]
    }
   ],
   "source": [
    "messages = prompt_template.format_messages(text=user_request)\n",
    "print(messages[0].content)"
   ]
  },
  {
   "cell_type": "code",
   "execution_count": 24,
   "id": "56463cab",
   "metadata": {},
   "outputs": [
    {
     "name": "stdout",
     "output_type": "stream",
     "text": [
      "{\n",
      "  \"cell_type\": \"MSN\",\n",
      "  \"property\": \"synapses\",\n",
      "  \"task\": \"number of incoming and outgoing\",\n",
      "  \"extra\": \"all\"\n",
      "}\n"
     ]
    }
   ],
   "source": [
    "response = chat(messages)\n",
    "print(response.content)"
   ]
  },
  {
   "cell_type": "code",
   "execution_count": 25,
   "id": "87266dd4",
   "metadata": {},
   "outputs": [
    {
     "data": {
      "text/plain": [
       "str"
      ]
     },
     "execution_count": 25,
     "metadata": {},
     "output_type": "execute_result"
    }
   ],
   "source": [
    "type(response.content)"
   ]
  },
  {
   "cell_type": "markdown",
   "id": "188a262a",
   "metadata": {},
   "source": [
    "Though the output response looks like JSON, it is actually a string hence the different fields\n",
    "cannot be accessed directly. We need to specify a parsing scheme to return it as a JSON/dict object."
   ]
  },
  {
   "cell_type": "code",
   "execution_count": 26,
   "id": "4173fcf6",
   "metadata": {},
   "outputs": [],
   "source": [
    "from langchain.output_parsers import StructuredOutputParser, ResponseSchema"
   ]
  },
  {
   "cell_type": "code",
   "execution_count": 27,
   "id": "49e784f6",
   "metadata": {},
   "outputs": [
    {
     "data": {
      "text/plain": [
       "StructuredOutputParser(response_schemas=[ResponseSchema(name='cell_type', description='Which type of cell is mentioned?', type='string'), ResponseSchema(name='property', description='Which property of the cell is requested?', type='string'), ResponseSchema(name='task', description='What to do with the requested cell and its property?', type='string'), ResponseSchema(name='extra', description='Any other information', type='string')])"
      ]
     },
     "execution_count": 27,
     "metadata": {},
     "output_type": "execute_result"
    }
   ],
   "source": [
    "celltype_schema = ResponseSchema(name='cell_type', \\\n",
    "                                 description='Which type of cell is mentioned?')\n",
    "property_schema = ResponseSchema(name='property', \\\n",
    "                                 description='Which property of the cell is requested?')\n",
    "task_schema = ResponseSchema(name='task',\n",
    "                             description='What to do with the requested cell and its property?')\n",
    "extra_schema = ResponseSchema(name='extra',\n",
    "                              description='Any other information')\n",
    "\n",
    "schemas = [celltype_schema, property_schema, task_schema, extra_schema]\n",
    "# StructuredOutputParser only accepts keyword arguments, passing \n",
    "# as a positional argument will throw an error\n",
    "output_parser = StructuredOutputParser(response_schemas=schemas)\n",
    "output_parser"
   ]
  },
  {
   "cell_type": "code",
   "execution_count": 28,
   "id": "cbcc957f",
   "metadata": {},
   "outputs": [],
   "source": [
    "format_instructions = output_parser.get_format_instructions()"
   ]
  },
  {
   "cell_type": "code",
   "execution_count": 29,
   "id": "4354d038",
   "metadata": {},
   "outputs": [
    {
     "name": "stdout",
     "output_type": "stream",
     "text": [
      "The output should be a markdown code snippet formatted in the following schema, including the leading and trailing \"```json\" and \"```\":\n",
      "\n",
      "```json\n",
      "{\n",
      "\t\"cell_type\": string  // Which type of cell is mentioned?\n",
      "\t\"property\": string  // Which property of the cell is requested?\n",
      "\t\"task\": string  // What to do with the requested cell and its property?\n",
      "\t\"extra\": string  // Any other information\n",
      "}\n",
      "```\n"
     ]
    }
   ],
   "source": [
    "print(format_instructions)"
   ]
  },
  {
   "cell_type": "code",
   "execution_count": 30,
   "id": "679c47ce",
   "metadata": {},
   "outputs": [],
   "source": [
    "request_template_2 = \"\"\"For the text delimited by backticks, extract the \\\n",
    "following information:\n",
    "\n",
    "cell_type: Which type of cell is mentioned?\n",
    "property: Which property of the cell is requested? Is it organelles \\\n",
    "e.g mitochondria or vesicles, synapses, myelin, subcompartments e.g axon, dendrite, soma etc.\n",
    "task: What to do with the requested cell and its property?\n",
    "extra: Any other information e.g a partner cell, quantity, \\\n",
    "dataset version, etc.\n",
    "\n",
    "{format_instructions}\n",
    "\n",
    "text: ```{text}```\n",
    "\"\"\""
   ]
  },
  {
   "cell_type": "code",
   "execution_count": 31,
   "id": "90547f60",
   "metadata": {},
   "outputs": [
    {
     "name": "stdout",
     "output_type": "stream",
     "text": [
      "For the text delimited by backticks, extract the following information:\n",
      "\n",
      "cell_type: Which type of cell is mentioned?\n",
      "property: Which property of the cell is requested? Is it organelles e.g mitochondria or vesicles, synapses, myelin, subcompartments e.g axon, dendrite, soma etc.\n",
      "task: What to do with the requested cell and its property?\n",
      "extra: Any other information e.g a partner cell, quantity, dataset version, etc.\n",
      "\n",
      "The output should be a markdown code snippet formatted in the following schema, including the leading and trailing \"```json\" and \"```\":\n",
      "\n",
      "```json\n",
      "{\n",
      "\t\"cell_type\": string  // Which type of cell is mentioned?\n",
      "\t\"property\": string  // Which property of the cell is requested?\n",
      "\t\"task\": string  // What to do with the requested cell and its property?\n",
      "\t\"extra\": string  // Any other information\n",
      "}\n",
      "```\n",
      "\n",
      "text: ```Give me the number of incoming and outgoing synapses of all the MSN cells```\n",
      "\n"
     ]
    }
   ],
   "source": [
    "prompt_template_2 = ChatPromptTemplate.from_template(request_template_2)\n",
    "# pass all the prompt input variables as arguments\n",
    "messages = prompt_template_2.format_messages(text=user_request, \\\n",
    "                                             format_instructions=format_instructions)\n",
    "print(messages[0].content)"
   ]
  },
  {
   "cell_type": "code",
   "execution_count": 32,
   "id": "a7861986",
   "metadata": {},
   "outputs": [
    {
     "name": "stdout",
     "output_type": "stream",
     "text": [
      "```json\n",
      "{\n",
      "\t\"cell_type\": \"MSN cells\",\n",
      "\t\"property\": \"incoming and outgoing synapses\",\n",
      "\t\"task\": \"Give me the number of\",\n",
      "\t\"extra\": \"all\"\n",
      "}\n",
      "```\n"
     ]
    }
   ],
   "source": [
    "response_2 = chat(messages)\n",
    "print(response_2.content)"
   ]
  },
  {
   "cell_type": "code",
   "execution_count": 33,
   "id": "a11ed786",
   "metadata": {},
   "outputs": [
    {
     "data": {
      "text/plain": [
       "str"
      ]
     },
     "execution_count": 33,
     "metadata": {},
     "output_type": "execute_result"
    }
   ],
   "source": [
    "type(response_2.content)  # still str but now we can use the output parser we created"
   ]
  },
  {
   "cell_type": "code",
   "execution_count": 34,
   "id": "8410f110",
   "metadata": {},
   "outputs": [],
   "source": [
    "output_dict = output_parser.parse(response_2.content)"
   ]
  },
  {
   "cell_type": "code",
   "execution_count": 35,
   "id": "6fe35d64",
   "metadata": {},
   "outputs": [
    {
     "name": "stdout",
     "output_type": "stream",
     "text": [
      "{'cell_type': 'MSN cells', 'property': 'incoming and outgoing synapses', 'task': 'Give me the number of', 'extra': 'all'}\n"
     ]
    },
    {
     "data": {
      "text/plain": [
       "('MSN cells', 'Give me the number of')"
      ]
     },
     "execution_count": 35,
     "metadata": {},
     "output_type": "execute_result"
    }
   ],
   "source": [
    "print(output_dict)\n",
    "output_dict['cell_type'], output_dict['task']"
   ]
  }
 ],
 "metadata": {
  "kernelspec": {
   "display_name": "Python 3 (ipykernel)",
   "language": "python",
   "name": "python3"
  },
  "language_info": {
   "codemirror_mode": {
    "name": "ipython",
    "version": 3
   },
   "file_extension": ".py",
   "mimetype": "text/x-python",
   "name": "python",
   "nbconvert_exporter": "python",
   "pygments_lexer": "ipython3",
   "version": "3.9.13"
  }
 },
 "nbformat": 4,
 "nbformat_minor": 5
}
